{
 "cells": [
  {
   "cell_type": "markdown",
   "metadata": {},
   "source": [
    "# Additional_Excercise_14.11442"
   ]
  },
  {
   "cell_type": "markdown",
   "metadata": {},
   "source": [
    "#### Problem Statement 1:"
   ]
  },
  {
   "cell_type": "markdown",
   "metadata": {},
   "source": [
    "Let the continuous random variable D denote the diameter of the hole drilled in an aluminum sheet. The target diameter to be achieved is 12.5mm. Random disturbances in the process often result in inaccuracy. Historical data shows that the distribution of D can be modelled by the PDF, f(d) = 20e−20(d−12.5), d ≥ 12.5. If a part with diameter > 12.6 mm needs to be scrapped, what is the proportion of those parts? What is the CDF when the diameter is of 11 mm? What is the conclusion of this experiment?"
   ]
  },
  {
   "cell_type": "markdown",
   "metadata": {},
   "source": [
    "![Asgn_11.2.4.png](files/Asgn_11.2.4.png)"
   ]
  },
  {
   "cell_type": "markdown",
   "metadata": {},
   "source": [
    "#### Problem Statement 2:"
   ]
  },
  {
   "cell_type": "markdown",
   "metadata": {},
   "source": [
    "Please compute the following:\n",
    "\n",
    "a) P(Z > 1.26), . P(Z < −0.86), P(Z > −1.37), P(−1.25 < Z < 0.37), . P(Z ≤ −4.6)\n",
    "\n",
    "b) Find the value 𝑧 such that 𝑃(𝑍 > 𝑧) = 0.05\n",
    "\n",
    "c) Find the value of 𝑧 such that 𝑃(−𝑧 < 𝑍 < 𝑧) = 0.99"
   ]
  },
  {
   "cell_type": "markdown",
   "metadata": {},
   "source": [
    "#### a) P(Z > 1.26), P(Z < −0.86), P(Z > −1.37), P(−1.25 < Z < 0.37), P(Z ≤ −4.6)"
   ]
  },
  {
   "cell_type": "markdown",
   "metadata": {},
   "source": [
    "P(Z > 1.26) = 1 - 0.8962 = 0.1038\n",
    "\n",
    "P(Z < -0.86) = 0.1949\n",
    "\n",
    "P(Z > -1.37) = 1 - 0.0853 = 0.9147\n",
    "\n",
    "P(-1.25 < Z < 0.37) = P(Z < 0.37) - P(Z < -1.25) = 0.6443 - 0.1056 = 0.5387\n",
    "\n",
    "P(Z <= -4.6) = 0"
   ]
  },
  {
   "cell_type": "markdown",
   "metadata": {},
   "source": [
    "#### b) Find the value 𝑧 such that 𝑃(𝑍 > 𝑧) = 0.05"
   ]
  },
  {
   "cell_type": "markdown",
   "metadata": {},
   "source": [
    "P(Z > z) = 0.05\n",
    "\n",
    "1 - P(Z < z) = 1 - 0.05\n",
    "\n",
    "P(Z < z) = 1 - 0.05\n",
    "\n",
    "P(Z < z) = 0.95\n",
    "\n",
    "z = 1.645"
   ]
  },
  {
   "cell_type": "markdown",
   "metadata": {},
   "source": [
    "#### c) Find the value of 𝑧 such that 𝑃(−𝑧 < 𝑍 < 𝑧) = 0.99"
   ]
  },
  {
   "cell_type": "markdown",
   "metadata": {},
   "source": [
    "𝑃(−𝑧 < 𝑍 < 𝑧) = 0.99\n",
    "\n",
    "Total Probability = 1. Then, 1 - 0.99 = 0.01\n",
    "\n",
    "Assuming normal distribution, 0.01/2 = 0.005\n",
    "\n",
    "From Z table, we found that P(Z < z) = 0.005\n",
    "z = 2.575\n",
    "\n",
    "So P(-2.575 < Z < 2.575) = 0.99"
   ]
  },
  {
   "cell_type": "markdown",
   "metadata": {},
   "source": [
    "#### Problem Statement 3:"
   ]
  },
  {
   "cell_type": "markdown",
   "metadata": {},
   "source": [
    "he current flow in a copper wire follow a normal distribution with a mean of 10 𝑚A and a variance of 4 (𝑚𝐴)2. What is the probability that a current measurement will exceed 13 𝑚𝐴? What is the probability that a current measurement is between 9 and 11mA? Determine the current measurement which has a probability of 0.98."
   ]
  },
  {
   "cell_type": "markdown",
   "metadata": {},
   "source": [
    "#### Solution:"
   ]
  },
  {
   "cell_type": "markdown",
   "metadata": {},
   "source": [
    "mean = 10 mA\n",
    "\n",
    "Variance = 4 mA2\n",
    "\n",
    "Standard deviation = SQRT(Variance) = SQRT(4) = 2\n",
    "\n",
    "P(Z > 13 mA) = P(Z > (13-10)/2) = P(Z > 3/2) = P(Z > 1.5) = 1 - 0.9332 = 0.0668\n",
    "\n",
    "Probability that a current measurement will exceed 13 mA is 0.0668"
   ]
  },
  {
   "cell_type": "markdown",
   "metadata": {},
   "source": [
    "##### What is the probability that a current measurement is between 9 and 11mA?"
   ]
  },
  {
   "cell_type": "markdown",
   "metadata": {},
   "source": [
    "P(9 mA < Z < 11 mA) = P(Z < 11 mA) - P(Z < 9 mA)\n",
    "\n",
    "P(Z < 11 mA) = P(Z < (11-10)/2) = P(Z < 1/2) = P(Z < 0.5) = 0.6915\n",
    "\n",
    "P(Z < 9 mA) = P(Z < (9-10)/2) = P(Z < -1/2) = P(Z < -0.5) = 0.3085\n",
    "\n",
    "So P(9 mA < Z < 11 mA) = P(Z < 11 mA) - P(Z < 9 mA) = 0.6915 - 0.3085 = 0.383\n",
    "\n",
    "Probability that a current measurement is between 9 and 11 mA is 0.383"
   ]
  },
  {
   "cell_type": "markdown",
   "metadata": {},
   "source": [
    "##### Determine the current measurement which has a probability of 0.98"
   ]
  },
  {
   "cell_type": "markdown",
   "metadata": {},
   "source": [
    "P(Z < z) = 0.98\n",
    "\n",
    "z = 2.055\n",
    "\n",
    "P(Z < 2.055) = 0.98\n",
    "\n",
    "At the current flow measured 2.055 mA has a probability of 0.98"
   ]
  },
  {
   "cell_type": "markdown",
   "metadata": {},
   "source": [
    "#### Problem Statement 4:"
   ]
  },
  {
   "cell_type": "markdown",
   "metadata": {},
   "source": [
    "The shaft in a piston has its diameter normally distributed with a mean of 0.2508 inch and a standard deviation of 0.0005 inch. The specifications of the shaft are 0.2500 ∓ 0.0015 inch. What proportion of shafts are in sync with the specifications? If the process is centered so that the mean is equal to the target value of 0.2500, what proportion of shafts conform to the new specifications? What is your conclusion from this experiment?"
   ]
  },
  {
   "cell_type": "markdown",
   "metadata": {},
   "source": [
    "#### Solution:"
   ]
  },
  {
   "cell_type": "markdown",
   "metadata": {},
   "source": [
    "![Asgn_12_2_4.png](files/Asgn_12_2_4.png)"
   ]
  },
  {
   "cell_type": "markdown",
   "metadata": {},
   "source": [
    "###### Conclusion:"
   ]
  },
  {
   "cell_type": "markdown",
   "metadata": {},
   "source": [
    "The yield increased from 91.92% to 99.74%.\n",
    "By centering the process to make mean is equal to target value.\n",
    "So there is an increase by 7.8%"
   ]
  }
 ],
 "metadata": {
  "kernelspec": {
   "display_name": "Python 3",
   "language": "python",
   "name": "python3"
  },
  "language_info": {
   "codemirror_mode": {
    "name": "ipython",
    "version": 3
   },
   "file_extension": ".py",
   "mimetype": "text/x-python",
   "name": "python",
   "nbconvert_exporter": "python",
   "pygments_lexer": "ipython3",
   "version": "3.7.0"
  }
 },
 "nbformat": 4,
 "nbformat_minor": 2
}
